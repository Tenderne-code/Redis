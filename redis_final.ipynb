{
 "cells": [
  {
   "cell_type": "code",
   "execution_count": 1,
   "metadata": {},
   "outputs": [
    {
     "name": "stdout",
     "output_type": "stream",
     "text": [
      "Looking in indexes: https://pypi.tuna.tsinghua.edu.cn/simple\n",
      "Requirement already satisfied: redis in ./.local/lib/python3.8/site-packages (4.5.4)\n",
      "Requirement already satisfied: async-timeout>=4.0.2; python_version <= \"3.11.2\" in ./.local/lib/python3.8/site-packages (from redis) (4.0.2)\n",
      "Looking in indexes: https://pypi.tuna.tsinghua.edu.cn/simple\n",
      "Requirement already satisfied: pymysql in ./.local/lib/python3.8/site-packages (1.0.3)\n",
      "Looking in indexes: https://pypi.tuna.tsinghua.edu.cn/simple\n",
      "Requirement already satisfied: cryptography in ./.local/lib/python3.8/site-packages (40.0.1)\n",
      "Requirement already satisfied: cffi>=1.12 in ./.local/lib/python3.8/site-packages (from cryptography) (1.15.1)\n",
      "Requirement already satisfied: pycparser in ./.local/lib/python3.8/site-packages (from cffi>=1.12->cryptography) (2.21)\n"
     ]
    }
   ],
   "source": [
    "!pip3 install redis\n",
    "!pip3 install pymysql\n",
    "!pip3 install cryptography"
   ]
  },
  {
   "cell_type": "code",
   "execution_count": 2,
   "metadata": {
    "scrolled": true
   },
   "outputs": [
    {
     "name": "stdout",
     "output_type": "stream",
     "text": [
      "runoob\n",
      "runoob\n",
      "<class 'str'>\n"
     ]
    }
   ],
   "source": [
    "import redis   # 导入redis 模块\n",
    "\n",
    "r = redis.Redis(host='localhost', port=6379, decode_responses=True)  \n",
    "r.set('name', 'runoob')  # 设置 name 对应的值\n",
    "print(r['name'])\n",
    "print(r.get('name'))  # 取出键 name 对应的值\n",
    "print(type(r.get('name')))  # 查看类型"
   ]
  },
  {
   "cell_type": "code",
   "execution_count": 3,
   "metadata": {},
   "outputs": [],
   "source": [
    "# msyql dataset 数据库 数据表说明\n",
    "# CREATE TABLE IF NOT EXISTS `browser`(\n",
    "#     `id` INT UNSIGNED AUTO_INCREMENT,\n",
    "#    `user_id` INT,\n",
    "#    `post_id` INT NOT NULL,\n",
    "#    PRIMARY KEY ( `id` )\n",
    "# )ENGINE=InnoDB DEFAULT CHARSET=utf8;\n",
    "\n",
    "# CREATE TABLE IF NOT EXISTS `user_like`(\n",
    "#     `id` INT UNSIGNED AUTO_INCREMENT,\n",
    "#    `fans_id` INT,\n",
    "#    `idol_id` INT NOT NULL,\n",
    "#    PRIMARY KEY ( `id` )\n",
    "# )ENGINE=InnoDB DEFAULT CHARSET=utf8;"
   ]
  },
  {
   "cell_type": "markdown",
   "metadata": {},
   "source": [
    "# 请不要修改mysql 数据库中的数据，因为这个是所有人共用的"
   ]
  },
  {
   "cell_type": "code",
   "execution_count": 4,
   "metadata": {},
   "outputs": [
    {
     "name": "stdout",
     "output_type": "stream",
     "text": [
      "(9999, 9999)\n",
      "(9999,)\n"
     ]
    }
   ],
   "source": [
    "import pymysql\n",
    "import random\n",
    "\n",
    "#连接数据库\n",
    "conn=pymysql.connect(host = '162.105.146.38' # 连接名称，默认127.0.0.1\n",
    ",user = 'root' # 用户名\n",
    ",passwd='123456' # 密码\n",
    ",port= 23306\n",
    ",db='dataset' # 数据库名称\n",
    ",charset='utf8' # 字符编码\n",
    ")\n",
    "cur = conn.cursor() # 生成游标对象\n",
    "\n",
    "sql=\"select max(fans_id), max(idol_id) from user_like\" # SQL语句\n",
    "cur.execute(sql) # 执行SQL语句\n",
    "data = cur.fetchall() # 通过fetchall方法获得数据\n",
    "for i in data[:2]: # 打印输出前2条数据\n",
    "    print(i)\n",
    "    \n",
    "sql=\"select max(post_id) from browser\" # SQL语句\n",
    "cur.execute(sql) # 执行SQL语句\n",
    "data = cur.fetchall() # 通过fetchall方法获得数据\n",
    "# 打印最大值\n",
    "print(data[0])"
   ]
  },
  {
   "cell_type": "code",
   "execution_count": 5,
   "metadata": {},
   "outputs": [],
   "source": [
    "#使用set保存每个用户点赞过的帖子集合，和每个帖子点赞过的用户集合\n",
    "#每个用户点赞过的帖子 key: user_id_ulike\n",
    "#每个帖子点赞过的用户 key: post_id_plike\n",
    "\n",
    "#使用string进行帖子点赞量的保存\n",
    "#每个帖子点赞总数 key: post_id_slike\n",
    "\n",
    "#使用set保存每个人关注与被关注集合\n",
    "#关注集 key: user_id_idols\n",
    "#被关注集 key: user_id_fans\n",
    "\n",
    "#key通过后缀区分\n",
    "def get_redis_key(user_id, attr):\n",
    "    return str(user_id) + str(attr)"
   ]
  },
  {
   "cell_type": "code",
   "execution_count": 6,
   "metadata": {},
   "outputs": [
    {
     "name": "stdout",
     "output_type": "stream",
     "text": [
      "0\n",
      "1\n",
      "2\n",
      "3\n",
      "4\n",
      "5\n",
      "6\n",
      "7\n",
      "8\n",
      "9\n",
      "10\n",
      "11\n",
      "12\n",
      "13\n",
      "14\n",
      "15\n",
      "16\n",
      "17\n",
      "18\n",
      "19\n",
      "20\n",
      "21\n",
      "22\n",
      "23\n",
      "24\n",
      "25\n",
      "26\n",
      "27\n",
      "28\n",
      "29\n",
      "30\n",
      "31\n",
      "32\n",
      "33\n",
      "34\n",
      "35\n",
      "36\n",
      "37\n",
      "38\n",
      "39\n",
      "40\n",
      "41\n",
      "42\n",
      "43\n",
      "44\n",
      "45\n",
      "46\n",
      "47\n",
      "48\n",
      "49\n",
      "50\n",
      "51\n",
      "52\n",
      "53\n",
      "54\n",
      "55\n",
      "56\n",
      "57\n",
      "58\n",
      "59\n",
      "60\n",
      "61\n",
      "62\n",
      "63\n",
      "64\n",
      "65\n",
      "66\n",
      "67\n",
      "68\n",
      "69\n",
      "70\n",
      "71\n",
      "72\n",
      "73\n",
      "74\n",
      "75\n",
      "76\n",
      "77\n",
      "78\n",
      "79\n",
      "80\n",
      "81\n",
      "82\n",
      "83\n",
      "84\n",
      "85\n",
      "86\n",
      "87\n",
      "88\n",
      "89\n",
      "90\n",
      "91\n",
      "92\n",
      "93\n",
      "94\n",
      "95\n",
      "96\n",
      "97\n",
      "98\n",
      "99\n"
     ]
    }
   ],
   "source": [
    "#Construct redis\n",
    "BATCH_SIZE = 10000\n",
    "MAX_TIMES = 100\n",
    "\n",
    "rpipe = r.pipeline()\n",
    "\n",
    "for epoch in range(MAX_TIMES):\n",
    "    print(epoch)\n",
    "    sql = \"select * from browser LIMIT {}, {}\".format(epoch * BATCH_SIZE, BATCH_SIZE)\n",
    "    cur.execute(sql)\n",
    "    data = cur.fetchall()\n",
    "    for i, user_id, post_id in data:\n",
    "        rpipe.sadd(get_redis_key(user_id, \"ulike\"), post_id)\n",
    "        rpipe.sadd(get_redis_key(post_id, \"plike\"), user_id)\n",
    "        #使用string进行点赞数的记录，后续单独排序\n",
    "        rpipe.set(get_redis_key(post_id, \"slike\"), r.scard(get_redis_key(post_id, \"plike\")))\n",
    "   \n",
    "    rpipe.execute()"
   ]
  },
  {
   "cell_type": "code",
   "execution_count": 7,
   "metadata": {},
   "outputs": [
    {
     "name": "stdout",
     "output_type": "stream",
     "text": [
      "103\n"
     ]
    }
   ],
   "source": [
    "#用户浏览特定帖子时，返回帖子的点赞数\n",
    "print(r.get(\"2023slike\"))"
   ]
  },
  {
   "cell_type": "code",
   "execution_count": 8,
   "metadata": {},
   "outputs": [
    {
     "name": "stdout",
     "output_type": "stream",
     "text": [
      "{'4394', '5432', '800', '199', '8378', '9581', '4270', '904', '4678', '3815', '9954', '9997', '5824', '4533', '4736', '2034', '4042', '4282', '131', '331', '1261', '1550', '2464', '1908', '5685', '6206', '293', '5016', '2448', '1274', '7721', '7803', '8952', '5531', '3764', '1090', '2556', '7151', '753', '4556', '8465', '3822', '1597', '8438', '9194', '8987', '7860', '5057', '3633', '4487', '441', '5815', '7292', '8534', '2371', '9155', '5097', '8110', '5799', '2905', '5354', '8599', '6614', '9144', '7381', '8253', '4607', '6994', '9500', '513', '3641', '8433', '5434', '8633', '9528', '1808', '9454', '2756', '8302', '3455', '4613', '8298', '3304', '8316', '3965', '4627', '9849', '3111', '4327', '4067', '3821', '6825', '2427', '1994', '3139', '3281', '5435', '3985', '4606'}\n",
      "yes!\n",
      "no!\n",
      "yes!\n"
     ]
    }
   ],
   "source": [
    "#用户是否点赞过这个帖子，是则输出“yes！”，否则输出“no！”\n",
    "#该函数表示user_id的用户是否点赞过post_id的帖子\n",
    "def liked_already(user_id,post_id):\n",
    "    sis = r.sismember(get_redis_key(post_id, \"plike\"), user_id)\n",
    "    if sis == 1:\n",
    "        print(\"yes!\")\n",
    "    else:\n",
    "        print(\"no!\")\n",
    "        \n",
    "print(r.smembers('128plike'))\n",
    "liked_already(131,128)\n",
    "liked_already(200,128)\n",
    "liked_already(9954,128)"
   ]
  },
  {
   "cell_type": "code",
   "execution_count": 9,
   "metadata": {},
   "outputs": [
    {
     "name": "stdout",
     "output_type": "stream",
     "text": [
      "7704\n",
      "2268\n",
      "6572\n",
      "5710\n",
      "3785\n",
      "3155\n",
      "893\n",
      "9905\n",
      "7604\n",
      "6\n"
     ]
    }
   ],
   "source": [
    "#给出点赞数排名前十的帖子\n",
    "def get_likes_top():\n",
    "    likes_ls = []\n",
    "    post_id_ls = []\n",
    "    MAX_POST_ID = 9999\n",
    "    for i in range(1, MAX_POST_ID + 1):\n",
    "        post_id_ls.append(i)\n",
    "        likes_ls.append(r.scard(get_redis_key(i, 'plike')))\n",
    "        \n",
    "    #翻转排序取最高10位\n",
    "    likes_new = sorted(zip(likes_ls, post_id_ls), reverse=True)\n",
    "    return likes_new[0:10]\n",
    "\n",
    "#打印点赞前十的post_id\n",
    "tmp = get_likes_top()\n",
    "for i in range(0, len(tmp)):\n",
    "    print(tmp[i][1])\n"
   ]
  },
  {
   "cell_type": "code",
   "execution_count": 10,
   "metadata": {},
   "outputs": [
    {
     "name": "stdout",
     "output_type": "stream",
     "text": [
      "0\n",
      "1\n",
      "2\n",
      "3\n",
      "4\n",
      "5\n",
      "6\n",
      "7\n",
      "8\n",
      "9\n",
      "10\n",
      "11\n",
      "12\n",
      "13\n",
      "14\n",
      "15\n",
      "16\n",
      "17\n",
      "18\n",
      "19\n",
      "20\n",
      "21\n",
      "22\n",
      "23\n",
      "24\n",
      "25\n",
      "26\n",
      "27\n",
      "28\n",
      "29\n",
      "30\n",
      "31\n",
      "32\n",
      "33\n",
      "34\n",
      "35\n",
      "36\n",
      "37\n",
      "38\n",
      "39\n",
      "40\n",
      "41\n",
      "42\n",
      "43\n",
      "44\n",
      "45\n",
      "46\n",
      "47\n",
      "48\n",
      "49\n",
      "50\n",
      "51\n",
      "52\n",
      "53\n",
      "54\n",
      "55\n",
      "56\n",
      "57\n",
      "58\n",
      "59\n",
      "60\n",
      "61\n",
      "62\n",
      "63\n",
      "64\n",
      "65\n",
      "66\n",
      "67\n",
      "68\n",
      "69\n",
      "70\n",
      "71\n",
      "72\n",
      "73\n",
      "74\n",
      "75\n",
      "76\n",
      "77\n",
      "78\n",
      "79\n",
      "80\n",
      "81\n",
      "82\n",
      "83\n",
      "84\n",
      "85\n",
      "86\n",
      "87\n",
      "88\n",
      "89\n",
      "90\n",
      "91\n",
      "92\n",
      "93\n",
      "94\n",
      "95\n",
      "96\n",
      "97\n",
      "98\n",
      "99\n"
     ]
    }
   ],
   "source": [
    "#Construct redis\n",
    "BATCH_SIZE = 10000\n",
    "MAX_TIMES = 100\n",
    "rpipe = r.pipeline()\n",
    "for epoch in range(MAX_TIMES):\n",
    "    print(epoch)\n",
    "    sql = \"select * from user_like LIMIT {}, {}\".format(epoch * BATCH_SIZE, BATCH_SIZE)\n",
    "    cur.execute(sql)\n",
    "    data = cur.fetchall()\n",
    "    for i, fans_id, idol_id in data:\n",
    "        rpipe.sadd(get_redis_key(fans_id, \"idols\"), idol_id)\n",
    "        rpipe.sadd(get_redis_key(idol_id, \"fans\"), fans_id)\n",
    "    rpipe.execute()\n"
   ]
  },
  {
   "cell_type": "code",
   "execution_count": 11,
   "metadata": {},
   "outputs": [
    {
     "name": "stdout",
     "output_type": "stream",
     "text": [
      "{'5382', '1319', '3791', '7076', '8679', '6122', '2971', '1361', '3151', '748', '7857', '7951', '72', '44', '369', '2922', '1655', '346', '4599', '2240', '7268', '8957', '1391', '621', '3186', '2136', '6714', '3222', '7297', '9085', '1977', '5717', '6233', '8989', '6186', '3493', '2350', '2067', '1610', '2822', '8423', '6638', '1084', '3735', '4399', '3168', '4220', '19', '5877', '679', '5648', '950', '3851', '5863', '2478', '6652', '9053', '2675', '4036', '1167', '3259', '5109', '8809', '9888', '6241', '6926', '4836', '6721', '7583', '812', '8874', '668', '1638', '8163', '3871', '8464', '6016', '2729', '7241', '1779', '1609', '1820', '1192', '9032', '8500', '478', '9878', '6071', '2181', '3549', '201', '577', '7221', '1038', '8316', '2391', '5215', '9405', '9656', '9326', '6690', '8712', '6577', '4731', '3910', '6097', '8651', '2050', '278', '4605'}\n",
      "{'4394', '4413', '3351', '8318', '2172', '9265', '9390', '8155', '7417', '7259', '3746', '6159', '8357', '8491', '1503', '4848', '5805', '4801', '2363', '1824', '3583', '9832', '5267', '5764', '5922', '7612', '3639', '5536', '5035', '4239', '8871', '8095', '7408', '6246', '3209', '3217', '6671', '7021', '9645', '1126', '8239', '5016', '929', '6377', '160', '696', '7721', '105', '9889', '6433', '4355', '5073', '681', '7651', '2140', '9898', '8505', '8548', '9020', '8962', '4506', '2487', '3218', '6626', '7769', '3316', '213', '2826', '4306', '8205', '3563', '8605', '8803', '7123', '2308', '3546', '8820', '2424', '9213', '6811', '9550', '2877', '2756', '9279', '2927', '6900', '1513', '9163', '7854', '4023', '4166', '2379', '1226', '5117', '7829', '1407', '862', '5968', '4493', '3069', '3728', '7290', '6589', '4962', '4943', '2183'}\n",
      "{'1824', '1058', '7065'}\n"
     ]
    }
   ],
   "source": [
    "print(r.smembers('3212idols'))\n",
    "print(r.smembers('3212fans'))\n",
    "def follow_each_other_set(user_id):\n",
    "    st = r.sinter(get_redis_key(user_id, \"idols\"), get_redis_key(user_id, \"fans\"))\n",
    "    print(st)\n",
    "follow_each_other_set(591)"
   ]
  },
  {
   "cell_type": "code",
   "execution_count": 12,
   "metadata": {},
   "outputs": [
    {
     "name": "stdout",
     "output_type": "stream",
     "text": [
      "(9457, 9517, 9793)\n"
     ]
    }
   ],
   "source": [
    "def get_common_idols_topk(user_id, topk):\n",
    "    rpipe = r.pipeline()\n",
    "    common_idols_ls = []\n",
    "    user_id_ls = []\n",
    "    MAX_USER_ID = 9999\n",
    "    for i in range(1,MAX_USER_ID + 1):\n",
    "        if i == user_id:\n",
    "            continue\n",
    "        user_id_ls.append(i)\n",
    "        rpipe.sinter(get_redis_key(user_id, 'idols'), get_redis_key(i, 'idols'))\n",
    "        if i % BATCH_SIZE == 0 or i == MAX_USER_ID:\n",
    "            data = rpipe.execute()\n",
    "            common_idols_ls += list(zip(map(len, data), user_id_ls))\n",
    "    return list(zip(*sorted(common_idols_ls)))[1][-3:]\n",
    "    #\n",
    "ls = get_common_idols_topk(1, 3)\n",
    "print(ls)"
   ]
  },
  {
   "cell_type": "code",
   "execution_count": 13,
   "metadata": {},
   "outputs": [],
   "source": [
    "cur.close() # 关闭游标\n",
    "conn.close() # 关闭连接"
   ]
  }
 ],
 "metadata": {
  "kernelspec": {
   "display_name": "Python 3",
   "language": "python",
   "name": "python3"
  },
  "language_info": {
   "codemirror_mode": {
    "name": "ipython",
    "version": 3
   },
   "file_extension": ".py",
   "mimetype": "text/x-python",
   "name": "python",
   "nbconvert_exporter": "python",
   "pygments_lexer": "ipython3",
   "version": "3.8.5"
  }
 },
 "nbformat": 4,
 "nbformat_minor": 4
}
